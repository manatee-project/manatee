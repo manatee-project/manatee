{
 "cells": [
  {
   "cell_type": "code",
   "execution_count": null,
   "id": "fc104190-b96c-4bf8-a7e7-4978c3f11259",
   "metadata": {},
   "outputs": [],
   "source": [
    "!pip install google-cloud-resource-manager google-cloud-storage numpy seaborn matplotlib pandas scikit-learn xgboost > /dev/null"
   ]
  },
  {
   "cell_type": "code",
   "execution_count": null,
   "id": "460f04a1-1f02-441b-94b9-084971624bd6",
   "metadata": {},
   "outputs": [],
   "source": [
    "import sdk\n",
    "import pandas\n",
    "import io\n",
    "import matplotlib.pyplot as plt\n",
    "import seaborn as sns"
   ]
  },
  {
   "cell_type": "code",
   "execution_count": null,
   "id": "28a1e860-278c-4b02-aac6-badd8be70af7",
   "metadata": {},
   "outputs": [],
   "source": [
    "sdk.gcp.init(\"<your gcp project ID>\", \"<your workload identity pool name>\",\"<your TEE service account name>\")\n",
    "repo = sdk.DataRepo(\"gs://<your stage-1 bucket>\", \"gs://<your stage-2 bucket>\")\n",
    "raw = repo.get_data(\"insurance.csv\")\n",
    "data = pandas.read_csv(io.StringIO(raw))"
   ]
  },
  {
   "cell_type": "code",
   "execution_count": null,
   "id": "8fc82891-1dc8-4f32-80ac-2d34d481067c",
   "metadata": {},
   "outputs": [],
   "source": [
    "data.info()"
   ]
  },
  {
   "cell_type": "code",
   "execution_count": null,
   "id": "e5b6fd79-08f1-4d29-9274-b78f6553ef3e",
   "metadata": {},
   "outputs": [],
   "source": [
    "data.head()"
   ]
  },
  {
   "cell_type": "code",
   "execution_count": null,
   "id": "d18097a2-4da1-4de2-a939-8b59caf4703e",
   "metadata": {},
   "outputs": [],
   "source": [
    "# Distribution Histogram\n",
    "fig, axes = plt.subplots(3, 3, figsize=(15, 15))\n",
    "for i, column in enumerate(data.columns):\n",
    "    sns.histplot(data[column], ax=axes[i//3, i%3])\n",
    "    axes[i//3, i%3].set_title(column)\n",
    "plt.tight_layout()\n",
    "plt.show()"
   ]
  },
  {
   "cell_type": "code",
   "execution_count": null,
   "id": "54ee0cc4-8dfd-457e-805b-c336fcc0556e",
   "metadata": {},
   "outputs": [],
   "source": [
    "\n",
    "# Correlation Heatmap\n",
    "data['sex'] = data['sex'].apply({'male':0,'female':1}.get) \n",
    "data['smoker'] = data['smoker'].apply({'yes':1, 'no':0}.get)\n",
    "data['region'] = data['region'].apply({'southwest':1, 'southeast':2, 'northwest':3, 'northeast':4}.get)\n",
    "plt.figure(figsize=(12, 10))\n",
    "sns.heatmap(data.corr(), annot=True, cmap='coolwarm', fmt='.2f', square=True, cbar_kws={\"shrink\": 0.75})\n",
    "plt.title('Correlation Heatmap - Strength of Relationships Between Features', fontsize=16)\n",
    "plt.xlabel('Features', fontsize=14)\n",
    "plt.ylabel('Features', fontsize=14)\n",
    "\n",
    "# Display the plot\n",
    "plt.show()"
   ]
  }
 ],
 "metadata": {
  "kernelspec": {
   "display_name": "Python 3 (ipykernel)",
   "language": "python",
   "name": "python3"
  },
  "language_info": {
   "codemirror_mode": {
    "name": "ipython",
    "version": 3
   },
   "file_extension": ".py",
   "mimetype": "text/x-python",
   "name": "python",
   "nbconvert_exporter": "python",
   "pygments_lexer": "ipython3",
   "version": "3.11.9"
  }
 },
 "nbformat": 4,
 "nbformat_minor": 5
}

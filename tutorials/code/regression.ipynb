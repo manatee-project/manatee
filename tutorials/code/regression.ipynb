{
 "cells": [
  {
   "cell_type": "code",
   "execution_count": null,
   "id": "37cb4626-0ba4-4a58-a08b-0087d55d286e",
   "metadata": {},
   "outputs": [],
   "source": [
    "!pip install google-cloud-storage numpy seaborn matplotlib pandas scikit-learn xgboost > /dev/null"
   ]
  },
  {
   "cell_type": "code",
   "execution_count": null,
   "id": "680d25da-5522-4234-ad98-2cf13f80bae1",
   "metadata": {},
   "outputs": [],
   "source": [
    "from sklearn.model_selection import train_test_split\n",
    "from sklearn.metrics import root_mean_squared_error\n",
    "from xgboost import XGBRegressor\n",
    "import sdk"
   ]
  },
  {
   "cell_type": "code",
   "execution_count": null,
   "id": "204ecd06-7d0b-41ae-af2b-e4ca1277b409",
   "metadata": {},
   "outputs": [],
   "source": [
    "\n",
    "bucket = sdk.init(\"gs://privacygo-data-clean-room-demo\")\n",
    "data = bucket.get_data(\"insurance.csv\")\n",
    "\n",
    "data['sex'] = data['sex'].apply({'male':0,'female':1}.get) \n",
    "data['smoker'] = data['smoker'].apply({'yes':1, 'no':0}.get)\n",
    "data['region'] = data['region'].apply({'southwest':1, 'southeast':2, 'northwest':3, 'northeast':4}.get)"
   ]
  },
  {
   "cell_type": "code",
   "execution_count": null,
   "id": "43f5f736-f987-48dc-977f-d75b9d683038",
   "metadata": {},
   "outputs": [],
   "source": [
    "X = data[['age','bmi', 'smoker']]\n",
    "y = data[['charges']]"
   ]
  },
  {
   "cell_type": "code",
   "execution_count": null,
   "id": "340ca175-db00-40fe-b2ae-0962f6fe6708",
   "metadata": {},
   "outputs": [],
   "source": [
    "# Assume 'X' contains features and 'y' is the target variable (charges)\n",
    "X_train, X_test, y_train, y_test = train_test_split(X, y, test_size=0.2, random_state=42)"
   ]
  },
  {
   "cell_type": "code",
   "execution_count": null,
   "id": "34276ee8-bc8b-4ec5-9be2-d2e817fe86ff",
   "metadata": {},
   "outputs": [],
   "source": [
    "model = XGBRegressor()\n",
    "model.fit(X_train, y_train)"
   ]
  },
  {
   "cell_type": "code",
   "execution_count": null,
   "id": "98468cf0-244d-49f1-814d-2dfd17f1eeba",
   "metadata": {},
   "outputs": [],
   "source": [
    "predictions = model.predict(X_test)"
   ]
  },
  {
   "cell_type": "code",
   "execution_count": null,
   "id": "ac29bb1e-944f-4672-b9e0-38c2f0218680",
   "metadata": {},
   "outputs": [],
   "source": [
    "rmse = root_mean_squared_error(y_test, predictions)\n",
    "print(f'Root Mean Squared Error: {rmse}')"
   ]
  }
 ],
 "metadata": {
  "kernelspec": {
   "display_name": "Python 3 (ipykernel)",
   "language": "python",
   "name": "python3"
  },
  "language_info": {
   "codemirror_mode": {
    "name": "ipython",
    "version": 3
   },
   "file_extension": ".py",
   "mimetype": "text/x-python",
   "name": "python",
   "nbconvert_exporter": "python",
   "pygments_lexer": "ipython3",
   "version": "3.11.9"
  }
 },
 "nbformat": 4,
 "nbformat_minor": 5
}
